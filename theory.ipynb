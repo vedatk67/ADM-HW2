{
 "cells": [
  {
   "cell_type": "markdown",
   "metadata": {},
   "source": [
    "# Theoretical Question"
   ]
  },
  {
   "cell_type": "markdown",
   "metadata": {},
   "source": [
    "## The algorithm ad its mechanism"
   ]
  },
  {
   "cell_type": "markdown",
   "metadata": {},
   "source": [
    "We write the recursive function to check what kind of operation it implements on the array a.\n",
    "We can apply this function to an array a = [1,2,3,4,5,6,7,8], that has a power of 2 as length, and see what kinds of \n",
    "outputs it returns for different specific lenght n, as n=2, n=4, n=8."
   ]
  },
  {
   "cell_type": "code",
   "execution_count": 5,
   "metadata": {},
   "outputs": [
    {
     "name": "stdout",
     "output_type": "stream",
     "text": [
      "[2, 1, 3, 4, 5, 6, 7, 8]\n",
      "[4, 3, 2, 1, 5, 6, 7, 8]\n",
      "[8, 7, 6, 5, 4, 3, 2, 1]\n"
     ]
    }
   ],
   "source": [
    "def splitSwap( a, l, n ):\n",
    "    if n <= 1:\n",
    "        return\n",
    "    splitSwap(a, l, n//2)\n",
    "    splitSwap(a, l+ n//2, n//2)\n",
    "    swapList(a, l, n)\n",
    "    \n",
    "def swapList(a, l, n):\n",
    "    for i in range(0,n//2):\n",
    "        tmp = a[l + i]\n",
    "        a[l + i] = a[l + n//2 + i]\n",
    "        a[l + n//2 + i] = tmp\n",
    "        \n",
    "a = [1,2,3,4,5,6,7,8]\n",
    "\n",
    "splitSwap(a, 0, 2)\n",
    "print(a)\n",
    "\n",
    "a = [1,2,3,4,5,6,7,8]\n",
    "\n",
    "splitSwap(a, 0, 4)\n",
    "print(a)\n",
    "\n",
    "a = [1,2,3,4,5,6,7,8]\n",
    "\n",
    "splitSwap(a, 0, 8)\n",
    "print(a)"
   ]
  },
  {
   "cell_type": "markdown",
   "metadata": {},
   "source": [
    "We can consider only the case when l = 0 as written in the homework text. \n",
    "As shown in the previous code, the algorithm take an array a, an index l and a specific length n that could be \n",
    "different from the total length of the array a, len(a): then it returns the first n components of the array a in a \n",
    "swap order, where the first element of the first n components becomes the last and so on.\n",
    "\n",
    "We can consider the first n components of the first array, a, as a new array, b.\n",
    "The algorithm does the following things:\n",
    "    \n",
    "- it splits the array b into 2 arrays, 1 array composed by the first n/2 components and the second by the second \n",
    "  half of the components; then it continue on the 2 new arrays and split again this 2 arrays, and so on till this \n",
    "  split mechanism bring us to an array of only 1 component;\n",
    "\n",
    "\n",
    "- now the algorithm can go back to the second last splitting and swap all the arrays with 2 components in the \n",
    "  for loop of the swapList() function, then it can join the swapped arrays of 2 components and go back to the third     last splitting with the a new 4 components arrays and so on;\n",
    "\n",
    "\n",
    "- on the last step it returns to the first splitting and it joins 2 arrays of n/2 components swapped respect to \n",
    "  the starting 2 arrays, so we finally obtain the reversed b array applying swapList() on this couple of final couple \n",
    "  of arrays.\n",
    "    \n",
    "Finally the algorithm returns the swapped first n components of the array a and it leaves the others unchanged."
   ]
  },
  {
   "cell_type": "markdown",
   "metadata": {},
   "source": [
    "## Big O analysis"
   ]
  },
  {
   "cell_type": "markdown",
   "metadata": {},
   "source": [
    "We can imagine the described previous procedure like a tree with many layers and $2^i$ branches ( the\n",
    "numbers of splitted arrays at the step $i$) for the layer $i$.\n",
    "\n",
    "If we denote the input parameter as $n = n_0$, the algorithm performs $n_0/2$ steps for each layer of the tree and the big O calculus is th following:\n",
    "\n",
    "\\begin{equation}\n",
    "T(n) = 2T(n/2) + n/2 \n",
    "\\end{equation}\n",
    "\n",
    "\\begin{equation}\n",
    "T(n) = 2( 2T(n/4) + n/4) + n/2 = 4T(n/4) + n/2 + n/2\n",
    "\\end{equation}\n",
    "\n",
    "\\begin{equation}\n",
    "T(n) = 2^iT(n/2^i) + \\sum_{k=1}^i n/2\n",
    "\\end{equation}\n",
    "\n",
    "The algorithm finish to split the array when it arrives to:\n",
    "\n",
    "\\begin{equation}\n",
    "n/2^i = 1   -->   i = log_2(n)\n",
    "\\end{equation}\n",
    "\n",
    "so the total time is:\n",
    "\n",
    "\\begin{equation}\n",
    "T(n) = nT(1) + {n\\over 2}log_2(n).\n",
    "\\end{equation}\n",
    "\n",
    "Finally, we have the asymptotic behavior for the splitSwap algorithm:\n",
    "\n",
    "\\begin{equation}\n",
    "T(n) = O( nlog_2(n) ).\n",
    "\\end{equation}\n",
    "\n",
    "because the linear term is asymptotically smaller than $nlog(n)$, so we can neglect the linear term."
   ]
  },
  {
   "cell_type": "markdown",
   "metadata": {},
   "source": [
    "## Is the algorithm optimal?"
   ]
  },
  {
   "cell_type": "markdown",
   "metadata": {},
   "source": [
    "The proposed algorithm is not optimal because we can write one version with running time $T(n) = O(n)$, that is showen in the following cell."
   ]
  },
  {
   "cell_type": "code",
   "execution_count": 19,
   "metadata": {},
   "outputs": [
    {
     "name": "stdout",
     "output_type": "stream",
     "text": [
      "[2, 1, 3, 4, 5, 6, 7, 8]\n",
      "[4, 3, 2, 1, 5, 6, 7, 8]\n",
      "[8, 7, 6, 5, 4, 3, 2, 1]\n"
     ]
    }
   ],
   "source": [
    "# The following version works in the case of interest, so with l = 0, and reproduce the same outputs of the \n",
    "# given version\n",
    "\n",
    "def splitSwap( a, l, n):\n",
    "    \n",
    "    for i in range( 0, n//2 ):\n",
    "        tmp = a[i]\n",
    "        a[i] = a[n-i-1]\n",
    "        a[n-i-1] = tmp\n",
    "        \n",
    "a = [1,2,3,4,5,6,7,8]\n",
    "\n",
    "splitSwap(a, 0, 2)\n",
    "print(a)\n",
    "\n",
    "a = [1,2,3,4,5,6,7,8]\n",
    "\n",
    "splitSwap(a, 0, 4)\n",
    "print(a)\n",
    "\n",
    "a = [1,2,3,4,5,6,7,8]\n",
    "\n",
    "splitSwap(a, 0, 8)\n",
    "print(a)"
   ]
  },
  {
   "cell_type": "code",
   "execution_count": null,
   "metadata": {},
   "outputs": [],
   "source": []
  }
 ],
 "metadata": {
  "kernelspec": {
   "display_name": "Python 3",
   "language": "python",
   "name": "python3"
  },
  "language_info": {
   "codemirror_mode": {
    "name": "ipython",
    "version": 3
   },
   "file_extension": ".py",
   "mimetype": "text/x-python",
   "name": "python",
   "nbconvert_exporter": "python",
   "pygments_lexer": "ipython3",
   "version": "3.7.3"
  }
 },
 "nbformat": 4,
 "nbformat_minor": 2
}
